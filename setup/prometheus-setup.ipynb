{
 "cells": [
  {
   "cell_type": "markdown",
   "metadata": {},
   "source": [
    "## Prometheus setup"
   ]
  },
  {
   "cell_type": "code",
   "execution_count": 26,
   "metadata": {
    "vscode": {
     "languageId": "plaintext"
    }
   },
   "outputs": [],
   "source": [
    "\n",
    "import subprocess\n",
    "import os\n",
    "import json\n",
    "from IPython.display import display, Markdown\n",
    "\n",
    "# Utility to run shell commands\n",
    "\n",
    "def run(cmd):\n",
    "    print(f\"\\n$ {cmd}\")\n",
    "    result = subprocess.run(cmd, shell=True, capture_output=True, text=True)\n",
    "    if result.stdout:\n",
    "        print(result.stdout)\n",
    "    if result.stderr:\n",
    "        print(\"[stderr]\", result.stderr)\n",
    "    return result"
   ]
  },
  {
   "cell_type": "markdown",
   "metadata": {},
   "source": [
    "# Detect current namespace"
   ]
  },
  {
   "cell_type": "code",
   "execution_count": null,
   "metadata": {
    "vscode": {
     "languageId": "plaintext"
    }
   },
   "outputs": [],
   "source": [
    "ns_result = subprocess.run(\"kubectl config view --minify -o jsonpath='{..namespace}'\", shell=True, capture_output=True, text=True)\n",
    "NAMESPACE = ns_result.stdout.strip(\"'\\n\") or \"default\"\n",
    "print(f\"[INFO] Detected namespace: {NAMESPACE}\")"
   ]
  },
  {
   "cell_type": "markdown",
   "metadata": {},
   "source": [
    "# Install Prometheus Operator via Subscription"
   ]
  },
  {
   "cell_type": "code",
   "execution_count": null,
   "metadata": {
    "vscode": {
     "languageId": "plaintext"
    }
   },
   "outputs": [],
   "source": [
    "prom_operator_yaml = f\"\"\"\n",
    "apiVersion: operators.coreos.com/v1alpha1\n",
    "kind: Subscription\n",
    "metadata:\n",
    "  name: prometheus\n",
    "  namespace: {NAMESPACE}\n",
    "spec:\n",
    "  channel: beta\n",
    "  name: prometheus\n",
    "  source: community-operators\n",
    "  sourceNamespace: openshift-marketplace\n",
    "\"\"\"\n",
    "\n",
    "with open(\"prometheus-subscription.yaml\", \"w\") as f:\n",
    "    f.write(prom_operator_yaml)\n",
    "\n",
    "run(\"kubectl apply -f prometheus-subscription.yaml\")\n",
    "os.remove(\"prometheus-subscription.yaml\")\n"
   ]
  },
  {
   "cell_type": "markdown",
   "metadata": {},
   "source": [
    "# Detect OpenShift cluster domain"
   ]
  },
  {
   "cell_type": "code",
   "execution_count": null,
   "metadata": {
    "vscode": {
     "languageId": "plaintext"
    }
   },
   "outputs": [],
   "source": [
    "def get_cluster_domain():\n",
    "    try:\n",
    "        result = subprocess.run(\n",
    "            \"oc get routes console -n openshift-console -o json\",\n",
    "            shell=True, capture_output=True, text=True, check=True\n",
    "        )\n",
    "        routes = json.loads(result.stdout)\n",
    "        host = routes[\"status\"][\"ingress\"][0][\"routerCanonicalHostname\"]\n",
    "        domain = host.replace(\"router-default.\", \"\")\n",
    "        return domain\n",
    "    except Exception as e:\n",
    "        print(f\"❌ Could not determine cluster domain: {e}\")\n",
    "        return \"REPLACE_ME_DOMAIN\"\n",
    "\n",
    "CLUSTER_DOMAIN = get_cluster_domain()\n",
    "print(f\"[INFO] Detected cluster domain: {CLUSTER_DOMAIN}\")"
   ]
  },
  {
   "cell_type": "markdown",
   "metadata": {},
   "source": [
    "# Create ServiceAccount"
   ]
  },
  {
   "cell_type": "code",
   "execution_count": null,
   "metadata": {
    "vscode": {
     "languageId": "plaintext"
    }
   },
   "outputs": [],
   "source": [
    "run(f\"kubectl create serviceaccount prometheus-monitoring -n {NAMESPACE}\")"
   ]
  },
  {
   "cell_type": "markdown",
   "metadata": {},
   "source": [
    "# Create ClusterRoleBinding"
   ]
  },
  {
   "cell_type": "code",
   "execution_count": null,
   "metadata": {
    "vscode": {
     "languageId": "plaintext"
    }
   },
   "outputs": [],
   "source": [
    "cluster_role_binding_yaml = f\"\"\"\n",
    "kind: ClusterRoleBinding\n",
    "apiVersion: rbac.authorization.k8s.io/v1\n",
    "metadata:\n",
    "  name: prometheus-monitoring\n",
    "subjects:\n",
    "  - kind: ServiceAccount\n",
    "    name: prometheus-monitoring\n",
    "    namespace: {NAMESPACE}\n",
    "roleRef:\n",
    "  apiGroup: rbac.authorization.k8s.io\n",
    "  kind: ClusterRole\n",
    "  name: cluster-monitoring-view\n",
    "\"\"\"\n",
    "\n",
    "with open(\"prometheus-cluster-role.yaml\", \"w\") as f:\n",
    "    f.write(cluster_role_binding_yaml)\n",
    "\n",
    "run(\"kubectl apply -f prometheus-cluster-role.yaml\")\n",
    "os.remove(\"prometheus-cluster-role.yaml\")"
   ]
  },
  {
   "cell_type": "markdown",
   "metadata": {},
   "source": [
    "# Create token for the ServiceAccount"
   ]
  },
  {
   "cell_type": "code",
   "execution_count": null,
   "metadata": {
    "vscode": {
     "languageId": "plaintext"
    }
   },
   "outputs": [],
   "source": [
    "print(\"\\nCreating token valid for 24h...\")\n",
    "token_result = subprocess.run(f\"kubectl create token prometheus-monitoring --duration=24h -n {NAMESPACE}\", shell=True, capture_output=True, text=True)\n",
    "SERVICE_ACCOUNT_TOKEN = token_result.stdout.strip()\n",
    "print(f\"[INFO] Token retrieved: {SERVICE_ACCOUNT_TOKEN[:10]}... (truncated)\")"
   ]
  },
  {
   "cell_type": "markdown",
   "metadata": {},
   "source": [
    "# Write scrape config"
   ]
  },
  {
   "cell_type": "code",
   "execution_count": null,
   "metadata": {
    "vscode": {
     "languageId": "plaintext"
    }
   },
   "outputs": [],
   "source": [
    "scrape_config = f\"\"\"\n",
    "- job_name: custom-monitoring\n",
    "  honor_labels: true\n",
    "  static_configs:\n",
    "    - targets:\n",
    "      - 'prometheus-k8s.openshift-monitoring.svc:9091'\n",
    "  scrape_interval: 30s\n",
    "  metrics_path: /federate\n",
    "  params:\n",
    "    match[]:\n",
    "    - '{{endpoint=\"https-metrics\"}}'\n",
    "    - '{{service=\"kube-state-metrics\"}}'\n",
    "    - '{{service=\"node-exporter\"}}'\n",
    "    - '{{__name__=~\"namespace_pod_name_container_name:.*\"}}'\n",
    "    - '{{__name__=~\"node_namespace_pod_container:.*\"}}'\n",
    "    - '{{__name__=~\"node:.*\"}}'\n",
    "    - '{{__name__=~\"instance:.*\"}}'\n",
    "    - '{{__name__=~\"container_memory_.*\"}}'\n",
    "    - '{{__name__=~\":node_memory_.*\"}}'\n",
    "  scheme: https\n",
    "  tls_config:\n",
    "    insecure_skip_verify: true\n",
    "  bearer_token: \"{SERVICE_ACCOUNT_TOKEN}\"\n",
    "  metric_relabel_configs:\n",
    "  - action: labeldrop\n",
    "    regex: prometheus_replica\n",
    "\"\"\"\n",
    "\n",
    "with open(\"scrape-config.yaml\", \"w\") as f:\n",
    "    f.write(scrape_config)\n",
    "\n",
    "run(f\"kubectl create secret generic additional-scrape-configs --from-file=custom-scrape-configs.yaml=scrape-config.yaml -n {NAMESPACE}\")\n",
    "os.remove(\"scrape-config.yaml\")"
   ]
  },
  {
   "cell_type": "markdown",
   "metadata": {},
   "source": [
    "# Apply Prometheus CR"
   ]
  },
  {
   "cell_type": "code",
   "execution_count": null,
   "metadata": {
    "vscode": {
     "languageId": "plaintext"
    }
   },
   "outputs": [],
   "source": [
    "prom_cr = f\"\"\"\n",
    "apiVersion: monitoring.coreos.com/v1\n",
    "kind: Prometheus\n",
    "metadata:\n",
    "  labels:\n",
    "    prometheus: k8s\n",
    "  name: example\n",
    "  namespace: {NAMESPACE}\n",
    "spec:\n",
    "  externalUrl: https://prometheus.{NAMESPACE}.{CLUSTER_DOMAIN}\n",
    "  podMonitorSelector: {{}}\n",
    "  replicas: 1\n",
    "  ruleSelector: {{}}\n",
    "  securityContext: {{}}\n",
    "  serviceAccountName: prometheus-monitoring\n",
    "  serviceMonitorSelector: {{}}\n",
    "  additionalScrapeConfigs:\n",
    "    key: custom-scrape-configs.yaml\n",
    "    name: additional-scrape-configs\n",
    "\"\"\"\n",
    "\n",
    "with open(\"prometheus-cr.yaml\", \"w\") as f:\n",
    "    f.write(prom_cr)\n",
    "\n",
    "run(\"kubectl apply -f prometheus-cr.yaml\")\n",
    "os.remove(\"prometheus-cr.yaml\")"
   ]
  },
  {
   "cell_type": "markdown",
   "metadata": {},
   "source": [
    "# Expose Prometheus"
   ]
  },
  {
   "cell_type": "code",
   "execution_count": null,
   "metadata": {
    "vscode": {
     "languageId": "plaintext"
    }
   },
   "outputs": [],
   "source": [
    "run(f\"oc expose service prometheus-operated --hostname prometheus.{NAMESPACE}.{CLUSTER_DOMAIN}\")"
   ]
  }
 ],
 "metadata": {
  "kernelspec": {
   "display_name": "Python 3 (ipykernel)",
   "language": "python",
   "name": "python3"
  },
  "language_info": {
   "codemirror_mode": {
    "name": "ipython",
    "version": 3
   },
   "file_extension": ".py",
   "mimetype": "text/x-python",
   "name": "python",
   "nbconvert_exporter": "python",
   "pygments_lexer": "ipython3",
   "version": "3.12.9"
  }
 },
 "nbformat": 4,
 "nbformat_minor": 4
}
